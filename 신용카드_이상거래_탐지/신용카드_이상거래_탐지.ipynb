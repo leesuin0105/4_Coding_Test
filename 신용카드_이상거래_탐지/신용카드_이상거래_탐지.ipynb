{
  "nbformat": 4,
  "nbformat_minor": 0,
  "metadata": {
    "colab": {
      "provenance": [],
      "collapsed_sections": [
        "0xrUYhgCHIwG"
      ],
      "toc_visible": true
    },
    "kernelspec": {
      "name": "python3",
      "display_name": "Python 3"
    },
    "language_info": {
      "name": "python"
    }
  },
  "cells": [
    {
      "cell_type": "markdown",
      "source": [
        "# 데이터 소개\n",
        "\n",
        "캐글 데이터 셋 [Credit Card Fraud Detection](https://www.kaggle.com/datasets/mlg-ulb/creditcardfraud)\n",
        "\n",
        "신용카드 이상거래 탐지"
      ],
      "metadata": {
        "id": "4lCYcdfaG-3R"
      }
    },
    {
      "cell_type": "markdown",
      "source": [
        "#0.기본세팅"
      ],
      "metadata": {
        "id": "0xrUYhgCHIwG"
      }
    },
    {
      "cell_type": "code",
      "execution_count": 5,
      "metadata": {
        "colab": {
          "base_uri": "https://localhost:8080/"
        },
        "id": "lbn3q4lwGb7r",
        "outputId": "a1857c7d-bfac-479e-c7bf-685809af38bf"
      },
      "outputs": [
        {
          "output_type": "stream",
          "name": "stdout",
          "text": [
            "사용 중인 폰트: ['NanumGothic']\n"
          ]
        }
      ],
      "source": [
        "import warnings\n",
        "warnings.filterwarnings(\"ignore\")\n",
        "\n",
        "import numpy as np\n",
        "import pandas as pd\n",
        "\n",
        "import matplotlib.pyplot as plt\n",
        "import seaborn as sns\n",
        "import matplotlib as mpl\n",
        "import matplotlib.font_manager as fm\n",
        "\n",
        "# ① 설치된 나눔고딕 파일 경로 (코랩 기본 위치)\n",
        "font_path = \"/usr/share/fonts/truetype/nanum/NanumGothic.ttf\"\n",
        "\n",
        "# ② Matplotlib 폰트 매니저에 파일을 직접 등록\n",
        "fm.fontManager.addfont(font_path)\n",
        "\n",
        "# ③ 파일에서 실제 폰트 '이름' 가져와 rcParams에 지정\n",
        "prop = fm.FontProperties(fname=font_path)\n",
        "mpl.rcParams['font.family'] = prop.get_name()\n",
        "mpl.rcParams['axes.unicode_minus'] = False  # 마이너스 깨짐 방지\n",
        "\n",
        "print(\"사용 중인 폰트:\", mpl.rcParams['font.family'])\n",
        "\n",
        "from sklearn.model_selection import train_test_split, StratifiedKFold, cross_val_score\n",
        "from sklearn.preprocessing import StandardScaler, RobustScaler\n",
        "from sklearn.pipeline import Pipeline\n",
        "from sklearn.compose import ColumnTransformer\n",
        "from sklearn.metrics import (\n",
        "    roc_auc_score, precision_recall_curve, average_precision_score,\n",
        "    classification_report, confusion_matrix, RocCurveDisplay, PrecisionRecallDisplay\n",
        ")\n",
        "from sklearn.linear_model import LogisticRegression\n",
        "from sklearn.ensemble import RandomForestClassifier\n",
        "from sklearn.metrics import precision_score, recall_score, f1_score\n",
        "\n",
        "from imblearn.over_sampling import SMOTE\n",
        "from imblearn.pipeline import Pipeline as ImbPipeline\n",
        "\n",
        "from sklearn.ensemble import IsolationForest"
      ]
    },
    {
      "cell_type": "code",
      "source": [
        "# 재현성 보장을 위해 random_state를 고정\n",
        "\n",
        "RANDOM_STATE = 42"
      ],
      "metadata": {
        "id": "PJx8TILZLA8T"
      },
      "execution_count": 3,
      "outputs": []
    },
    {
      "cell_type": "code",
      "source": [
        "# 나눔 폰트 설치\n",
        "!sudo apt-get install -y fonts-nanum\n",
        "!sudo fc-cache -fv\n",
        "!rm ~/.cache/matplotlib -rf"
      ],
      "metadata": {
        "colab": {
          "base_uri": "https://localhost:8080/"
        },
        "collapsed": true,
        "id": "feMOumBpLSI3",
        "outputId": "7db29c9d-6464-48f1-8ce5-b4bd71f4c8cd"
      },
      "execution_count": 4,
      "outputs": [
        {
          "output_type": "stream",
          "name": "stdout",
          "text": [
            "Reading package lists... Done\n",
            "Building dependency tree... Done\n",
            "Reading state information... Done\n",
            "The following NEW packages will be installed:\n",
            "  fonts-nanum\n",
            "0 upgraded, 1 newly installed, 0 to remove and 35 not upgraded.\n",
            "Need to get 10.3 MB of archives.\n",
            "After this operation, 34.1 MB of additional disk space will be used.\n",
            "Get:1 http://archive.ubuntu.com/ubuntu jammy/universe amd64 fonts-nanum all 20200506-1 [10.3 MB]\n",
            "Fetched 10.3 MB in 2s (6,785 kB/s)\n",
            "debconf: unable to initialize frontend: Dialog\n",
            "debconf: (No usable dialog-like program is installed, so the dialog based frontend cannot be used. at /usr/share/perl5/Debconf/FrontEnd/Dialog.pm line 78, <> line 1.)\n",
            "debconf: falling back to frontend: Readline\n",
            "debconf: unable to initialize frontend: Readline\n",
            "debconf: (This frontend requires a controlling tty.)\n",
            "debconf: falling back to frontend: Teletype\n",
            "dpkg-preconfigure: unable to re-open stdin: \n",
            "Selecting previously unselected package fonts-nanum.\n",
            "(Reading database ... 126435 files and directories currently installed.)\n",
            "Preparing to unpack .../fonts-nanum_20200506-1_all.deb ...\n",
            "Unpacking fonts-nanum (20200506-1) ...\n",
            "Setting up fonts-nanum (20200506-1) ...\n",
            "Processing triggers for fontconfig (2.13.1-4.2ubuntu5) ...\n",
            "/usr/share/fonts: caching, new cache contents: 0 fonts, 1 dirs\n",
            "/usr/share/fonts/truetype: caching, new cache contents: 0 fonts, 3 dirs\n",
            "/usr/share/fonts/truetype/humor-sans: caching, new cache contents: 1 fonts, 0 dirs\n",
            "/usr/share/fonts/truetype/liberation: caching, new cache contents: 16 fonts, 0 dirs\n",
            "/usr/share/fonts/truetype/nanum: caching, new cache contents: 12 fonts, 0 dirs\n",
            "/usr/local/share/fonts: caching, new cache contents: 0 fonts, 0 dirs\n",
            "/root/.local/share/fonts: skipping, no such directory\n",
            "/root/.fonts: skipping, no such directory\n",
            "/usr/share/fonts/truetype: skipping, looped directory detected\n",
            "/usr/share/fonts/truetype/humor-sans: skipping, looped directory detected\n",
            "/usr/share/fonts/truetype/liberation: skipping, looped directory detected\n",
            "/usr/share/fonts/truetype/nanum: skipping, looped directory detected\n",
            "/var/cache/fontconfig: cleaning cache directory\n",
            "/root/.cache/fontconfig: not cleaning non-existent cache directory\n",
            "/root/.fontconfig: not cleaning non-existent cache directory\n",
            "fc-cache: succeeded\n"
          ]
        }
      ]
    },
    {
      "cell_type": "code",
      "source": [
        "# ① 설치된 나눔고딕 파일 경로 (코랩 기본 위치)\n",
        "font_path = \"/usr/share/fonts/truetype/nanum/NanumGothic.ttf\"\n",
        "\n",
        "# ② Matplotlib 폰트 매니저에 파일을 직접 등록\n",
        "fm.fontManager.addfont(font_path)\n",
        "\n",
        "# ③ 파일에서 실제 폰트 '이름' 가져와 rcParams에 지정\n",
        "prop = fm.FontProperties(fname=font_path)\n",
        "mpl.rcParams['font.family'] = prop.get_name()\n",
        "mpl.rcParams['axes.unicode_minus'] = False  # 마이너스 깨짐 방지\n",
        "\n",
        "print(\"사용 중인 폰트:\", mpl.rcParams['font.family'])"
      ],
      "metadata": {
        "colab": {
          "base_uri": "https://localhost:8080/"
        },
        "id": "WHTTUF4fLp4L",
        "outputId": "a25ce4df-e6ed-474b-b3fc-cd5d68945343"
      },
      "execution_count": 6,
      "outputs": [
        {
          "output_type": "stream",
          "name": "stdout",
          "text": [
            "사용 중인 폰트: ['NanumGothic']\n"
          ]
        }
      ]
    },
    {
      "cell_type": "code",
      "source": [
        "# 코랩 구글드라이브 마운트\n",
        "from google.colab import drive\n",
        "drive.mount('/content/drive')"
      ],
      "metadata": {
        "colab": {
          "base_uri": "https://localhost:8080/"
        },
        "id": "mcmlT9Q6NNeK",
        "outputId": "e655fc33-fb1a-4be4-ae98-dcaadfc3a1e9"
      },
      "execution_count": 7,
      "outputs": [
        {
          "output_type": "stream",
          "name": "stdout",
          "text": [
            "Mounted at /content/drive\n"
          ]
        }
      ]
    },
    {
      "cell_type": "code",
      "source": [
        "# 파일 불러오기\n",
        "df = pd.read_csv(\"/content/drive/MyDrive/분석/신용카드_이상거래탐지/creditcard.csv\")"
      ],
      "metadata": {
        "id": "QbKADJ4ELyD1"
      },
      "execution_count": 9,
      "outputs": []
    },
    {
      "cell_type": "code",
      "source": [
        "# CC변수에 저장\n",
        "CC = df.copy()"
      ],
      "metadata": {
        "id": "xo3rMT4JNUGa"
      },
      "execution_count": 10,
      "outputs": []
    },
    {
      "cell_type": "code",
      "source": [
        "CC.head()"
      ],
      "metadata": {
        "colab": {
          "base_uri": "https://localhost:8080/",
          "height": 235
        },
        "id": "phy0tdKXN1xn",
        "outputId": "94465f56-f3f1-4e20-d42b-3b238bc99991"
      },
      "execution_count": 11,
      "outputs": [
        {
          "output_type": "execute_result",
          "data": {
            "text/plain": [
              "   Time        V1        V2        V3        V4        V5        V6        V7  \\\n",
              "0   0.0 -1.359807 -0.072781  2.536347  1.378155 -0.338321  0.462388  0.239599   \n",
              "1   0.0  1.191857  0.266151  0.166480  0.448154  0.060018 -0.082361 -0.078803   \n",
              "2   1.0 -1.358354 -1.340163  1.773209  0.379780 -0.503198  1.800499  0.791461   \n",
              "3   1.0 -0.966272 -0.185226  1.792993 -0.863291 -0.010309  1.247203  0.237609   \n",
              "4   2.0 -1.158233  0.877737  1.548718  0.403034 -0.407193  0.095921  0.592941   \n",
              "\n",
              "         V8        V9  ...       V21       V22       V23       V24       V25  \\\n",
              "0  0.098698  0.363787  ... -0.018307  0.277838 -0.110474  0.066928  0.128539   \n",
              "1  0.085102 -0.255425  ... -0.225775 -0.638672  0.101288 -0.339846  0.167170   \n",
              "2  0.247676 -1.514654  ...  0.247998  0.771679  0.909412 -0.689281 -0.327642   \n",
              "3  0.377436 -1.387024  ... -0.108300  0.005274 -0.190321 -1.175575  0.647376   \n",
              "4 -0.270533  0.817739  ... -0.009431  0.798278 -0.137458  0.141267 -0.206010   \n",
              "\n",
              "        V26       V27       V28  Amount  Class  \n",
              "0 -0.189115  0.133558 -0.021053  149.62      0  \n",
              "1  0.125895 -0.008983  0.014724    2.69      0  \n",
              "2 -0.139097 -0.055353 -0.059752  378.66      0  \n",
              "3 -0.221929  0.062723  0.061458  123.50      0  \n",
              "4  0.502292  0.219422  0.215153   69.99      0  \n",
              "\n",
              "[5 rows x 31 columns]"
            ],
            "text/html": [
              "\n",
              "  <div id=\"df-604aafe1-5c4d-422e-aaab-e19e8185a967\" class=\"colab-df-container\">\n",
              "    <div>\n",
              "<style scoped>\n",
              "    .dataframe tbody tr th:only-of-type {\n",
              "        vertical-align: middle;\n",
              "    }\n",
              "\n",
              "    .dataframe tbody tr th {\n",
              "        vertical-align: top;\n",
              "    }\n",
              "\n",
              "    .dataframe thead th {\n",
              "        text-align: right;\n",
              "    }\n",
              "</style>\n",
              "<table border=\"1\" class=\"dataframe\">\n",
              "  <thead>\n",
              "    <tr style=\"text-align: right;\">\n",
              "      <th></th>\n",
              "      <th>Time</th>\n",
              "      <th>V1</th>\n",
              "      <th>V2</th>\n",
              "      <th>V3</th>\n",
              "      <th>V4</th>\n",
              "      <th>V5</th>\n",
              "      <th>V6</th>\n",
              "      <th>V7</th>\n",
              "      <th>V8</th>\n",
              "      <th>V9</th>\n",
              "      <th>...</th>\n",
              "      <th>V21</th>\n",
              "      <th>V22</th>\n",
              "      <th>V23</th>\n",
              "      <th>V24</th>\n",
              "      <th>V25</th>\n",
              "      <th>V26</th>\n",
              "      <th>V27</th>\n",
              "      <th>V28</th>\n",
              "      <th>Amount</th>\n",
              "      <th>Class</th>\n",
              "    </tr>\n",
              "  </thead>\n",
              "  <tbody>\n",
              "    <tr>\n",
              "      <th>0</th>\n",
              "      <td>0.0</td>\n",
              "      <td>-1.359807</td>\n",
              "      <td>-0.072781</td>\n",
              "      <td>2.536347</td>\n",
              "      <td>1.378155</td>\n",
              "      <td>-0.338321</td>\n",
              "      <td>0.462388</td>\n",
              "      <td>0.239599</td>\n",
              "      <td>0.098698</td>\n",
              "      <td>0.363787</td>\n",
              "      <td>...</td>\n",
              "      <td>-0.018307</td>\n",
              "      <td>0.277838</td>\n",
              "      <td>-0.110474</td>\n",
              "      <td>0.066928</td>\n",
              "      <td>0.128539</td>\n",
              "      <td>-0.189115</td>\n",
              "      <td>0.133558</td>\n",
              "      <td>-0.021053</td>\n",
              "      <td>149.62</td>\n",
              "      <td>0</td>\n",
              "    </tr>\n",
              "    <tr>\n",
              "      <th>1</th>\n",
              "      <td>0.0</td>\n",
              "      <td>1.191857</td>\n",
              "      <td>0.266151</td>\n",
              "      <td>0.166480</td>\n",
              "      <td>0.448154</td>\n",
              "      <td>0.060018</td>\n",
              "      <td>-0.082361</td>\n",
              "      <td>-0.078803</td>\n",
              "      <td>0.085102</td>\n",
              "      <td>-0.255425</td>\n",
              "      <td>...</td>\n",
              "      <td>-0.225775</td>\n",
              "      <td>-0.638672</td>\n",
              "      <td>0.101288</td>\n",
              "      <td>-0.339846</td>\n",
              "      <td>0.167170</td>\n",
              "      <td>0.125895</td>\n",
              "      <td>-0.008983</td>\n",
              "      <td>0.014724</td>\n",
              "      <td>2.69</td>\n",
              "      <td>0</td>\n",
              "    </tr>\n",
              "    <tr>\n",
              "      <th>2</th>\n",
              "      <td>1.0</td>\n",
              "      <td>-1.358354</td>\n",
              "      <td>-1.340163</td>\n",
              "      <td>1.773209</td>\n",
              "      <td>0.379780</td>\n",
              "      <td>-0.503198</td>\n",
              "      <td>1.800499</td>\n",
              "      <td>0.791461</td>\n",
              "      <td>0.247676</td>\n",
              "      <td>-1.514654</td>\n",
              "      <td>...</td>\n",
              "      <td>0.247998</td>\n",
              "      <td>0.771679</td>\n",
              "      <td>0.909412</td>\n",
              "      <td>-0.689281</td>\n",
              "      <td>-0.327642</td>\n",
              "      <td>-0.139097</td>\n",
              "      <td>-0.055353</td>\n",
              "      <td>-0.059752</td>\n",
              "      <td>378.66</td>\n",
              "      <td>0</td>\n",
              "    </tr>\n",
              "    <tr>\n",
              "      <th>3</th>\n",
              "      <td>1.0</td>\n",
              "      <td>-0.966272</td>\n",
              "      <td>-0.185226</td>\n",
              "      <td>1.792993</td>\n",
              "      <td>-0.863291</td>\n",
              "      <td>-0.010309</td>\n",
              "      <td>1.247203</td>\n",
              "      <td>0.237609</td>\n",
              "      <td>0.377436</td>\n",
              "      <td>-1.387024</td>\n",
              "      <td>...</td>\n",
              "      <td>-0.108300</td>\n",
              "      <td>0.005274</td>\n",
              "      <td>-0.190321</td>\n",
              "      <td>-1.175575</td>\n",
              "      <td>0.647376</td>\n",
              "      <td>-0.221929</td>\n",
              "      <td>0.062723</td>\n",
              "      <td>0.061458</td>\n",
              "      <td>123.50</td>\n",
              "      <td>0</td>\n",
              "    </tr>\n",
              "    <tr>\n",
              "      <th>4</th>\n",
              "      <td>2.0</td>\n",
              "      <td>-1.158233</td>\n",
              "      <td>0.877737</td>\n",
              "      <td>1.548718</td>\n",
              "      <td>0.403034</td>\n",
              "      <td>-0.407193</td>\n",
              "      <td>0.095921</td>\n",
              "      <td>0.592941</td>\n",
              "      <td>-0.270533</td>\n",
              "      <td>0.817739</td>\n",
              "      <td>...</td>\n",
              "      <td>-0.009431</td>\n",
              "      <td>0.798278</td>\n",
              "      <td>-0.137458</td>\n",
              "      <td>0.141267</td>\n",
              "      <td>-0.206010</td>\n",
              "      <td>0.502292</td>\n",
              "      <td>0.219422</td>\n",
              "      <td>0.215153</td>\n",
              "      <td>69.99</td>\n",
              "      <td>0</td>\n",
              "    </tr>\n",
              "  </tbody>\n",
              "</table>\n",
              "<p>5 rows × 31 columns</p>\n",
              "</div>\n",
              "    <div class=\"colab-df-buttons\">\n",
              "\n",
              "  <div class=\"colab-df-container\">\n",
              "    <button class=\"colab-df-convert\" onclick=\"convertToInteractive('df-604aafe1-5c4d-422e-aaab-e19e8185a967')\"\n",
              "            title=\"Convert this dataframe to an interactive table.\"\n",
              "            style=\"display:none;\">\n",
              "\n",
              "  <svg xmlns=\"http://www.w3.org/2000/svg\" height=\"24px\" viewBox=\"0 -960 960 960\">\n",
              "    <path d=\"M120-120v-720h720v720H120Zm60-500h600v-160H180v160Zm220 220h160v-160H400v160Zm0 220h160v-160H400v160ZM180-400h160v-160H180v160Zm440 0h160v-160H620v160ZM180-180h160v-160H180v160Zm440 0h160v-160H620v160Z\"/>\n",
              "  </svg>\n",
              "    </button>\n",
              "\n",
              "  <style>\n",
              "    .colab-df-container {\n",
              "      display:flex;\n",
              "      gap: 12px;\n",
              "    }\n",
              "\n",
              "    .colab-df-convert {\n",
              "      background-color: #E8F0FE;\n",
              "      border: none;\n",
              "      border-radius: 50%;\n",
              "      cursor: pointer;\n",
              "      display: none;\n",
              "      fill: #1967D2;\n",
              "      height: 32px;\n",
              "      padding: 0 0 0 0;\n",
              "      width: 32px;\n",
              "    }\n",
              "\n",
              "    .colab-df-convert:hover {\n",
              "      background-color: #E2EBFA;\n",
              "      box-shadow: 0px 1px 2px rgba(60, 64, 67, 0.3), 0px 1px 3px 1px rgba(60, 64, 67, 0.15);\n",
              "      fill: #174EA6;\n",
              "    }\n",
              "\n",
              "    .colab-df-buttons div {\n",
              "      margin-bottom: 4px;\n",
              "    }\n",
              "\n",
              "    [theme=dark] .colab-df-convert {\n",
              "      background-color: #3B4455;\n",
              "      fill: #D2E3FC;\n",
              "    }\n",
              "\n",
              "    [theme=dark] .colab-df-convert:hover {\n",
              "      background-color: #434B5C;\n",
              "      box-shadow: 0px 1px 3px 1px rgba(0, 0, 0, 0.15);\n",
              "      filter: drop-shadow(0px 1px 2px rgba(0, 0, 0, 0.3));\n",
              "      fill: #FFFFFF;\n",
              "    }\n",
              "  </style>\n",
              "\n",
              "    <script>\n",
              "      const buttonEl =\n",
              "        document.querySelector('#df-604aafe1-5c4d-422e-aaab-e19e8185a967 button.colab-df-convert');\n",
              "      buttonEl.style.display =\n",
              "        google.colab.kernel.accessAllowed ? 'block' : 'none';\n",
              "\n",
              "      async function convertToInteractive(key) {\n",
              "        const element = document.querySelector('#df-604aafe1-5c4d-422e-aaab-e19e8185a967');\n",
              "        const dataTable =\n",
              "          await google.colab.kernel.invokeFunction('convertToInteractive',\n",
              "                                                    [key], {});\n",
              "        if (!dataTable) return;\n",
              "\n",
              "        const docLinkHtml = 'Like what you see? Visit the ' +\n",
              "          '<a target=\"_blank\" href=https://colab.research.google.com/notebooks/data_table.ipynb>data table notebook</a>'\n",
              "          + ' to learn more about interactive tables.';\n",
              "        element.innerHTML = '';\n",
              "        dataTable['output_type'] = 'display_data';\n",
              "        await google.colab.output.renderOutput(dataTable, element);\n",
              "        const docLink = document.createElement('div');\n",
              "        docLink.innerHTML = docLinkHtml;\n",
              "        element.appendChild(docLink);\n",
              "      }\n",
              "    </script>\n",
              "  </div>\n",
              "\n",
              "\n",
              "    <div id=\"df-c12fc2d8-1987-4df1-a44c-12671cc78d6e\">\n",
              "      <button class=\"colab-df-quickchart\" onclick=\"quickchart('df-c12fc2d8-1987-4df1-a44c-12671cc78d6e')\"\n",
              "                title=\"Suggest charts\"\n",
              "                style=\"display:none;\">\n",
              "\n",
              "<svg xmlns=\"http://www.w3.org/2000/svg\" height=\"24px\"viewBox=\"0 0 24 24\"\n",
              "     width=\"24px\">\n",
              "    <g>\n",
              "        <path d=\"M19 3H5c-1.1 0-2 .9-2 2v14c0 1.1.9 2 2 2h14c1.1 0 2-.9 2-2V5c0-1.1-.9-2-2-2zM9 17H7v-7h2v7zm4 0h-2V7h2v10zm4 0h-2v-4h2v4z\"/>\n",
              "    </g>\n",
              "</svg>\n",
              "      </button>\n",
              "\n",
              "<style>\n",
              "  .colab-df-quickchart {\n",
              "      --bg-color: #E8F0FE;\n",
              "      --fill-color: #1967D2;\n",
              "      --hover-bg-color: #E2EBFA;\n",
              "      --hover-fill-color: #174EA6;\n",
              "      --disabled-fill-color: #AAA;\n",
              "      --disabled-bg-color: #DDD;\n",
              "  }\n",
              "\n",
              "  [theme=dark] .colab-df-quickchart {\n",
              "      --bg-color: #3B4455;\n",
              "      --fill-color: #D2E3FC;\n",
              "      --hover-bg-color: #434B5C;\n",
              "      --hover-fill-color: #FFFFFF;\n",
              "      --disabled-bg-color: #3B4455;\n",
              "      --disabled-fill-color: #666;\n",
              "  }\n",
              "\n",
              "  .colab-df-quickchart {\n",
              "    background-color: var(--bg-color);\n",
              "    border: none;\n",
              "    border-radius: 50%;\n",
              "    cursor: pointer;\n",
              "    display: none;\n",
              "    fill: var(--fill-color);\n",
              "    height: 32px;\n",
              "    padding: 0;\n",
              "    width: 32px;\n",
              "  }\n",
              "\n",
              "  .colab-df-quickchart:hover {\n",
              "    background-color: var(--hover-bg-color);\n",
              "    box-shadow: 0 1px 2px rgba(60, 64, 67, 0.3), 0 1px 3px 1px rgba(60, 64, 67, 0.15);\n",
              "    fill: var(--button-hover-fill-color);\n",
              "  }\n",
              "\n",
              "  .colab-df-quickchart-complete:disabled,\n",
              "  .colab-df-quickchart-complete:disabled:hover {\n",
              "    background-color: var(--disabled-bg-color);\n",
              "    fill: var(--disabled-fill-color);\n",
              "    box-shadow: none;\n",
              "  }\n",
              "\n",
              "  .colab-df-spinner {\n",
              "    border: 2px solid var(--fill-color);\n",
              "    border-color: transparent;\n",
              "    border-bottom-color: var(--fill-color);\n",
              "    animation:\n",
              "      spin 1s steps(1) infinite;\n",
              "  }\n",
              "\n",
              "  @keyframes spin {\n",
              "    0% {\n",
              "      border-color: transparent;\n",
              "      border-bottom-color: var(--fill-color);\n",
              "      border-left-color: var(--fill-color);\n",
              "    }\n",
              "    20% {\n",
              "      border-color: transparent;\n",
              "      border-left-color: var(--fill-color);\n",
              "      border-top-color: var(--fill-color);\n",
              "    }\n",
              "    30% {\n",
              "      border-color: transparent;\n",
              "      border-left-color: var(--fill-color);\n",
              "      border-top-color: var(--fill-color);\n",
              "      border-right-color: var(--fill-color);\n",
              "    }\n",
              "    40% {\n",
              "      border-color: transparent;\n",
              "      border-right-color: var(--fill-color);\n",
              "      border-top-color: var(--fill-color);\n",
              "    }\n",
              "    60% {\n",
              "      border-color: transparent;\n",
              "      border-right-color: var(--fill-color);\n",
              "    }\n",
              "    80% {\n",
              "      border-color: transparent;\n",
              "      border-right-color: var(--fill-color);\n",
              "      border-bottom-color: var(--fill-color);\n",
              "    }\n",
              "    90% {\n",
              "      border-color: transparent;\n",
              "      border-bottom-color: var(--fill-color);\n",
              "    }\n",
              "  }\n",
              "</style>\n",
              "\n",
              "      <script>\n",
              "        async function quickchart(key) {\n",
              "          const quickchartButtonEl =\n",
              "            document.querySelector('#' + key + ' button');\n",
              "          quickchartButtonEl.disabled = true;  // To prevent multiple clicks.\n",
              "          quickchartButtonEl.classList.add('colab-df-spinner');\n",
              "          try {\n",
              "            const charts = await google.colab.kernel.invokeFunction(\n",
              "                'suggestCharts', [key], {});\n",
              "          } catch (error) {\n",
              "            console.error('Error during call to suggestCharts:', error);\n",
              "          }\n",
              "          quickchartButtonEl.classList.remove('colab-df-spinner');\n",
              "          quickchartButtonEl.classList.add('colab-df-quickchart-complete');\n",
              "        }\n",
              "        (() => {\n",
              "          let quickchartButtonEl =\n",
              "            document.querySelector('#df-c12fc2d8-1987-4df1-a44c-12671cc78d6e button');\n",
              "          quickchartButtonEl.style.display =\n",
              "            google.colab.kernel.accessAllowed ? 'block' : 'none';\n",
              "        })();\n",
              "      </script>\n",
              "    </div>\n",
              "\n",
              "    </div>\n",
              "  </div>\n"
            ],
            "application/vnd.google.colaboratory.intrinsic+json": {
              "type": "dataframe",
              "variable_name": "CC"
            }
          },
          "metadata": {},
          "execution_count": 11
        }
      ]
    },
    {
      "cell_type": "code",
      "source": [
        "CC.info()"
      ],
      "metadata": {
        "colab": {
          "base_uri": "https://localhost:8080/"
        },
        "collapsed": true,
        "id": "_ugJtdGcN-ZM",
        "outputId": "e980d587-191e-4e0d-f7ef-42f194b2bbed"
      },
      "execution_count": 12,
      "outputs": [
        {
          "output_type": "stream",
          "name": "stdout",
          "text": [
            "<class 'pandas.core.frame.DataFrame'>\n",
            "RangeIndex: 284807 entries, 0 to 284806\n",
            "Data columns (total 31 columns):\n",
            " #   Column  Non-Null Count   Dtype  \n",
            "---  ------  --------------   -----  \n",
            " 0   Time    284807 non-null  float64\n",
            " 1   V1      284807 non-null  float64\n",
            " 2   V2      284807 non-null  float64\n",
            " 3   V3      284807 non-null  float64\n",
            " 4   V4      284807 non-null  float64\n",
            " 5   V5      284807 non-null  float64\n",
            " 6   V6      284807 non-null  float64\n",
            " 7   V7      284807 non-null  float64\n",
            " 8   V8      284807 non-null  float64\n",
            " 9   V9      284807 non-null  float64\n",
            " 10  V10     284807 non-null  float64\n",
            " 11  V11     284807 non-null  float64\n",
            " 12  V12     284807 non-null  float64\n",
            " 13  V13     284807 non-null  float64\n",
            " 14  V14     284807 non-null  float64\n",
            " 15  V15     284807 non-null  float64\n",
            " 16  V16     284807 non-null  float64\n",
            " 17  V17     284807 non-null  float64\n",
            " 18  V18     284807 non-null  float64\n",
            " 19  V19     284807 non-null  float64\n",
            " 20  V20     284807 non-null  float64\n",
            " 21  V21     284807 non-null  float64\n",
            " 22  V22     284807 non-null  float64\n",
            " 23  V23     284807 non-null  float64\n",
            " 24  V24     284807 non-null  float64\n",
            " 25  V25     284807 non-null  float64\n",
            " 26  V26     284807 non-null  float64\n",
            " 27  V27     284807 non-null  float64\n",
            " 28  V28     284807 non-null  float64\n",
            " 29  Amount  284807 non-null  float64\n",
            " 30  Class   284807 non-null  int64  \n",
            "dtypes: float64(30), int64(1)\n",
            "memory usage: 67.4 MB\n"
          ]
        }
      ]
    },
    {
      "cell_type": "code",
      "source": [
        "# 결측치 확인\n",
        "CC.isnull().sum()"
      ],
      "metadata": {
        "colab": {
          "base_uri": "https://localhost:8080/",
          "height": 1000
        },
        "collapsed": true,
        "id": "dclUb7-oN-XS",
        "outputId": "0de030f2-e818-4487-a52a-ff1603b28983"
      },
      "execution_count": 13,
      "outputs": [
        {
          "output_type": "execute_result",
          "data": {
            "text/plain": [
              "Time      0\n",
              "V1        0\n",
              "V2        0\n",
              "V3        0\n",
              "V4        0\n",
              "V5        0\n",
              "V6        0\n",
              "V7        0\n",
              "V8        0\n",
              "V9        0\n",
              "V10       0\n",
              "V11       0\n",
              "V12       0\n",
              "V13       0\n",
              "V14       0\n",
              "V15       0\n",
              "V16       0\n",
              "V17       0\n",
              "V18       0\n",
              "V19       0\n",
              "V20       0\n",
              "V21       0\n",
              "V22       0\n",
              "V23       0\n",
              "V24       0\n",
              "V25       0\n",
              "V26       0\n",
              "V27       0\n",
              "V28       0\n",
              "Amount    0\n",
              "Class     0\n",
              "dtype: int64"
            ],
            "text/html": [
              "<div>\n",
              "<style scoped>\n",
              "    .dataframe tbody tr th:only-of-type {\n",
              "        vertical-align: middle;\n",
              "    }\n",
              "\n",
              "    .dataframe tbody tr th {\n",
              "        vertical-align: top;\n",
              "    }\n",
              "\n",
              "    .dataframe thead th {\n",
              "        text-align: right;\n",
              "    }\n",
              "</style>\n",
              "<table border=\"1\" class=\"dataframe\">\n",
              "  <thead>\n",
              "    <tr style=\"text-align: right;\">\n",
              "      <th></th>\n",
              "      <th>0</th>\n",
              "    </tr>\n",
              "  </thead>\n",
              "  <tbody>\n",
              "    <tr>\n",
              "      <th>Time</th>\n",
              "      <td>0</td>\n",
              "    </tr>\n",
              "    <tr>\n",
              "      <th>V1</th>\n",
              "      <td>0</td>\n",
              "    </tr>\n",
              "    <tr>\n",
              "      <th>V2</th>\n",
              "      <td>0</td>\n",
              "    </tr>\n",
              "    <tr>\n",
              "      <th>V3</th>\n",
              "      <td>0</td>\n",
              "    </tr>\n",
              "    <tr>\n",
              "      <th>V4</th>\n",
              "      <td>0</td>\n",
              "    </tr>\n",
              "    <tr>\n",
              "      <th>V5</th>\n",
              "      <td>0</td>\n",
              "    </tr>\n",
              "    <tr>\n",
              "      <th>V6</th>\n",
              "      <td>0</td>\n",
              "    </tr>\n",
              "    <tr>\n",
              "      <th>V7</th>\n",
              "      <td>0</td>\n",
              "    </tr>\n",
              "    <tr>\n",
              "      <th>V8</th>\n",
              "      <td>0</td>\n",
              "    </tr>\n",
              "    <tr>\n",
              "      <th>V9</th>\n",
              "      <td>0</td>\n",
              "    </tr>\n",
              "    <tr>\n",
              "      <th>V10</th>\n",
              "      <td>0</td>\n",
              "    </tr>\n",
              "    <tr>\n",
              "      <th>V11</th>\n",
              "      <td>0</td>\n",
              "    </tr>\n",
              "    <tr>\n",
              "      <th>V12</th>\n",
              "      <td>0</td>\n",
              "    </tr>\n",
              "    <tr>\n",
              "      <th>V13</th>\n",
              "      <td>0</td>\n",
              "    </tr>\n",
              "    <tr>\n",
              "      <th>V14</th>\n",
              "      <td>0</td>\n",
              "    </tr>\n",
              "    <tr>\n",
              "      <th>V15</th>\n",
              "      <td>0</td>\n",
              "    </tr>\n",
              "    <tr>\n",
              "      <th>V16</th>\n",
              "      <td>0</td>\n",
              "    </tr>\n",
              "    <tr>\n",
              "      <th>V17</th>\n",
              "      <td>0</td>\n",
              "    </tr>\n",
              "    <tr>\n",
              "      <th>V18</th>\n",
              "      <td>0</td>\n",
              "    </tr>\n",
              "    <tr>\n",
              "      <th>V19</th>\n",
              "      <td>0</td>\n",
              "    </tr>\n",
              "    <tr>\n",
              "      <th>V20</th>\n",
              "      <td>0</td>\n",
              "    </tr>\n",
              "    <tr>\n",
              "      <th>V21</th>\n",
              "      <td>0</td>\n",
              "    </tr>\n",
              "    <tr>\n",
              "      <th>V22</th>\n",
              "      <td>0</td>\n",
              "    </tr>\n",
              "    <tr>\n",
              "      <th>V23</th>\n",
              "      <td>0</td>\n",
              "    </tr>\n",
              "    <tr>\n",
              "      <th>V24</th>\n",
              "      <td>0</td>\n",
              "    </tr>\n",
              "    <tr>\n",
              "      <th>V25</th>\n",
              "      <td>0</td>\n",
              "    </tr>\n",
              "    <tr>\n",
              "      <th>V26</th>\n",
              "      <td>0</td>\n",
              "    </tr>\n",
              "    <tr>\n",
              "      <th>V27</th>\n",
              "      <td>0</td>\n",
              "    </tr>\n",
              "    <tr>\n",
              "      <th>V28</th>\n",
              "      <td>0</td>\n",
              "    </tr>\n",
              "    <tr>\n",
              "      <th>Amount</th>\n",
              "      <td>0</td>\n",
              "    </tr>\n",
              "    <tr>\n",
              "      <th>Class</th>\n",
              "      <td>0</td>\n",
              "    </tr>\n",
              "  </tbody>\n",
              "</table>\n",
              "</div><br><label><b>dtype:</b> int64</label>"
            ]
          },
          "metadata": {},
          "execution_count": 13
        }
      ]
    },
    {
      "cell_type": "markdown",
      "source": [
        "#1.타깃 불균형 확인: 정상 vs 사기 비율/건수"
      ],
      "metadata": {
        "id": "CixK619ENVsg"
      }
    },
    {
      "cell_type": "code",
      "source": [
        "# 타깃 집계 + 사기 비율\n",
        "class_counts = CC[\"Class\"].value_counts().sort_index()  # 0=정상, 1=사기\n",
        "total = int(class_counts.sum())\n",
        "frauds = int(class_counts.get(1, 0))\n",
        "fraud_ratio = frauds / total if total > 0 else 0.0\n",
        "print(f\"사기 비율(Fraud rate): {fraud_ratio*100:.4f}%  ({frauds:,}/{total:,})\")"
      ],
      "metadata": {
        "colab": {
          "base_uri": "https://localhost:8080/"
        },
        "id": "8GaddiEtN-SL",
        "outputId": "36981048-8fb3-4403-c0ce-5170ff1979c9"
      },
      "execution_count": 21,
      "outputs": [
        {
          "output_type": "stream",
          "name": "stdout",
          "text": [
            "사기 비율(Fraud rate): 0.1727%  (492/284,807)\n"
          ]
        }
      ]
    },
    {
      "cell_type": "code",
      "source": [
        "# 막대그래프- 불균형이 잘보임\n",
        "\n",
        "labels = [\"정상\", \"사기\"]\n",
        "values = [int(class_counts.get(0,0)), int(class_counts.get(1,0))]\n",
        "\n",
        "plt.bar(labels, values)\n",
        "plt.title(\"타깃 분포\")\n",
        "plt.xlabel(\"구분\"); plt.ylabel(\"건수\")\n",
        "for i, v in enumerate(values):\n",
        "    pct = v / total * 100\n",
        "    plt.text(i, v, f\"{v:,}\\n({pct:.4f}%)\", ha=\"center\", va=\"bottom\")\n",
        "plt.show()"
      ],
      "metadata": {
        "colab": {
          "base_uri": "https://localhost:8080/",
          "height": 469
        },
        "id": "AjLUtrm1OmZO",
        "outputId": "5dc15b02-6300-4220-920e-ccd15790e4ba"
      },
      "execution_count": 22,
      "outputs": [
        {
          "output_type": "display_data",
          "data": {
            "text/plain": [
              "<Figure size 640x480 with 1 Axes>"
            ],
            "image/png": "[encoded data removed]"
          },
          "metadata": {}
        }
      ]
    },
    {
      "cell_type": "markdown",
      "source": [
        "'사기'가 너무 적어서 그냥 학습하면 사기를 거의 못 잡을 수 있음\n",
        "\n",
        "→ 가중치, SMOTE, 임계값 조정이 필요."
      ],
      "metadata": {
        "id": "14EybhnjlRWk"
      }
    },
    {
      "cell_type": "markdown",
      "source": [
        "#2.Train/Test 분할"
      ],
      "metadata": {
        "id": "ixVmmwcvQHvZ"
      }
    },
    {
      "cell_type": "code",
      "source": [
        "FEATURES = [c for c in CC.columns if c != \"Class\"]\n",
        "TARGET = \"Class\"\n",
        "\n",
        "X = CC[FEATURES].copy()\n",
        "y = CC[TARGET].copy()\n",
        "\n",
        "\n",
        "# Amount, Time은 단위가 크고 이상치에 민감해서 RobustScaler로 스케일링\n",
        "\n",
        "num_cols_to_scale = [\"Amount\", \"Time\"]\n",
        "preprocess = ColumnTransformer(\n",
        "    [(\"scale\", RobustScaler(), num_cols_to_scale)],\n",
        "    remainder=\"passthrough\" # 나머지 V1~V28은 이미 스케일됨(PCA)\n",
        ")\n",
        "\n",
        "X_train, X_test, y_train, y_test = train_test_split(\n",
        "    X, y, test_size=0.2, stratify=y, random_state=RANDOM_STATE\n",
        ")\n",
        "X_train.shape, X_test.shape, y_train.mean(), y_test.mean()"
      ],
      "metadata": {
        "colab": {
          "base_uri": "https://localhost:8080/"
        },
        "id": "bOK_jEYuP6oS",
        "outputId": "e0e6be49-3f80-4e92-baa2-cb5a2c6f3e75"
      },
      "execution_count": 25,
      "outputs": [
        {
          "output_type": "execute_result",
          "data": {
            "text/plain": [
              "((227845, 30),\n",
              " (56962, 30),\n",
              " np.float64(0.001729245759178389),\n",
              " np.float64(0.0017204452090867595))"
            ]
          },
          "metadata": {},
          "execution_count": 25
        }
      ]
    },
    {
      "cell_type": "markdown",
      "source": [
        "학습 227,845건 / 평가 56,962건 / 피처 30개\n",
        "\n",
        "학습·평가 모두 사기 비율이 0.17%로 같음 → 층화 분할 성공(공정한 비교 가능)"
      ],
      "metadata": {
        "id": "aSCD3SMfUINz"
      }
    },
    {
      "cell_type": "markdown",
      "source": [
        "#3.베이스라인 모델: 로지스틱 회귀(가중치) + ROC/PR 가로 그래프"
      ],
      "metadata": {
        "id": "HqFxiLjbQQdR"
      }
    },
    {
      "cell_type": "code",
      "source": [
        "# 로지스틱 파이프라인: (전처리 → 모델)\n",
        "logit_pipe = Pipeline([\n",
        "    (\"prep\", preprocess),\n",
        "    (\"clf\", LogisticRegression(\n",
        "        max_iter=500,\n",
        "        class_weight=\"balanced\",\n",
        "        random_state=RANDOM_STATE\n",
        "    ))\n",
        "])\n",
        "\n",
        "# 학습 & 예측 확률\n",
        "logit_pipe.fit(X_train, y_train)\n",
        "proba_val = logit_pipe.predict_proba(X_test)[:, 1]\n",
        "\n",
        "# 성능 지표\n",
        "roc = roc_auc_score(y_test, proba_val)\n",
        "ap  = average_precision_score(y_test, proba_val)\n",
        "print(f\"[로지스틱] ROC-AUC: {roc:.4f}  |  PR-AUC(AP): {ap:.4f}\")\n",
        "\n",
        "# 그래프\n",
        "fig, axes = plt.subplots(1, 2, figsize=(12, 5))\n",
        "\n",
        "RocCurveDisplay.from_predictions(y_test, proba_val, ax=axes[0], name=f\"AUC={roc:.2f}\")\n",
        "axes[0].set_title(\"ROC 곡선 - 로지스틱\")\n",
        "\n",
        "PrecisionRecallDisplay.from_predictions(y_test, proba_val, ax=axes[1], name=f\"AP={ap:.2f}\")\n",
        "axes[1].set_title(\"정밀도-재현율 곡선 - 로지스틱\")\n",
        "axes[1].legend(loc=\"lower left\")\n",
        "\n",
        "plt.tight_layout()\n",
        "plt.show()"
      ],
      "metadata": {
        "colab": {
          "base_uri": "https://localhost:8080/",
          "height": 525
        },
        "id": "ZdV-EQpvQNad",
        "outputId": "6110b4ab-7933-4946-9560-b2cc043791b2"
      },
      "execution_count": 29,
      "outputs": [
        {
          "output_type": "stream",
          "name": "stdout",
          "text": [
            "[로지스틱] ROC-AUC: 0.9720  |  PR-AUC(AP): 0.7175\n"
          ]
        },
        {
          "output_type": "display_data",
          "data": {
            "text/plain": [
              "<Figure size 1200x500 with 2 Axes>"
            ],
            "image/png": "[encoded data removed]"
          },
          "metadata": {}
        }
      ]
    },
    {
      "cell_type": "markdown",
      "source": [
        "가중치로 '사기'의 중요도를 키워 학습.\n",
        "\n",
        "ROC-AUC : 0.97 (전체 분리력 아주 좋음), PR-AUC : 0.72(소수 클래스 기준 성능).\n",
        "\n",
        "PR곡선이 높게 유지되다 재현율 0.8-0.9 구간에서 급하락\n",
        "→ 많이 잡으려면(재현율↑) 오탐도 늘어남."
      ],
      "metadata": {
        "id": "_iSa7Ym1WazS"
      }
    },
    {
      "cell_type": "markdown",
      "source": [
        "#4.불균형 보강: SMOTE + 로지스틱 비교"
      ],
      "metadata": {
        "id": "hfHrvpCtW7ax"
      }
    },
    {
      "cell_type": "code",
      "source": [
        "cv = StratifiedKFold(n_splits=5, shuffle=True, random_state=RANDOM_STATE)\n",
        "\n",
        "smote_logit = ImbPipeline([\n",
        "    (\"prep\", preprocess),\n",
        "    (\"smote\", SMOTE(random_state=RANDOM_STATE, k_neighbors=5)),\n",
        "    (\"clf\", LogisticRegression(max_iter=500, random_state=RANDOM_STATE))\n",
        "])\n",
        "\n",
        "# CV로 ROC-AUC 평균만 빠르게 확인\n",
        "roc_scores = cross_val_score(smote_logit, X_train, y_train, cv=cv, scoring=\"roc_auc\", n_jobs=-1)\n",
        "\n",
        "# 홀드아웃 PR-AUC\n",
        "smote_logit.fit(X_train, y_train)\n",
        "proba_val = smote_logit.predict_proba(X_test)[:, 1]\n",
        "ap = average_precision_score(y_test, proba_val)\n",
        "\n",
        "print(f\"[SMOTE+로지스틱] ROC-AUC(CV평균): {roc_scores.mean():.4f} ± {roc_scores.std():.4f}\")\n",
        "print(f\"[SMOTE+로지스틱] PR-AUC(AP, 홀드아웃): {ap:.4f}\")\n",
        "\n",
        "PrecisionRecallDisplay.from_predictions(y_test, proba_val);\n",
        "plt.title(\"정밀도-재현율 곡선 - SMOTE+로지스틱\"); plt.show()"
      ],
      "metadata": {
        "colab": {
          "base_uri": "https://localhost:8080/",
          "height": 506
        },
        "id": "nPvaDDoNYbme",
        "outputId": "9970bfa0-1596-4fad-918a-86112b96160f"
      },
      "execution_count": 30,
      "outputs": [
        {
          "output_type": "stream",
          "name": "stdout",
          "text": [
            "[SMOTE+로지스틱] ROC-AUC(CV평균): 0.9802 ± 0.0124\n",
            "[SMOTE+로지스틱] PR-AUC(AP, 홀드아웃): 0.7251\n"
          ]
        },
        {
          "output_type": "display_data",
          "data": {
            "text/plain": [
              "<Figure size 640x480 with 1 Axes>"
            ],
            "image/png": "[encoded data removed]"
          },
          "metadata": {}
        }
      ]
    },
    {
      "cell_type": "markdown",
      "source": [
        "학습세트에서만 사기 샘플을 합성해 조금 더 균형을 맞춤.\n",
        "\n",
        "<결과>\n",
        "\n",
        "\n",
        "ROC-AUC(CV 평균) = 0.9802 ± 0.0124 = 평균 0.98, 표준편차 0.012.\n",
        "  -  로지스틱(가중치)보다 약간 상승.\n",
        "\n",
        "PR-AUC(AP, 홀드아웃) = 0.7251\n",
        "  - 베이스라인(0.7175)보다 소폭 상승.\n",
        "\n",
        "\n",
        "\n",
        "즉, ROC-AUC 0.98, PR-AUC 0.725로 베이스라인 대비 소폭 향상했습니다."
      ],
      "metadata": {
        "id": "DmXRC8C2Zhh9"
      }
    },
    {
      "cell_type": "markdown",
      "source": [
        "#5.더 강한 모델: 랜덤포레스트 + 임계값(Threshold) 찾기\n",
        "\n",
        "트리 앙상블이라 비선형/상호작용을 자동으로 학습 → 보통 로지스틱보다 표현력이 강함."
      ],
      "metadata": {
        "id": "zrCkmU6iX1MN"
      }
    },
    {
      "cell_type": "code",
      "source": [
        "rf_pipe = Pipeline([\n",
        "    (\"prep\", preprocess),\n",
        "    (\"clf\", RandomForestClassifier(\n",
        "        n_estimators=200, max_depth=12, min_samples_leaf=4,\n",
        "        max_features=\"sqrt\", bootstrap=True, max_samples=0.7,\n",
        "        class_weight=\"balanced_subsample\", n_jobs=-1, random_state=RANDOM_STATE, verbose=1\n",
        "    ))\n",
        "])\n",
        "\n",
        "rf_pipe.fit(X_train, y_train)\n",
        "rf_proba = rf_pipe.predict_proba(X_test)[:,1]\n",
        "\n",
        "# 임계값 0.50과 F1 최대 임계값에서 각각 평가\n",
        "from sklearn.metrics import classification_report, confusion_matrix, precision_recall_curve\n",
        "def eval_at(thr, name):\n",
        "    y_pred = (rf_proba >= thr).astype(int)\n",
        "    print(f\"\\n[{name}] 임계값={thr:.3f}\")\n",
        "    print(classification_report(y_test, y_pred, target_names=[\"정상(0)\",\"사기(1)\"]))\n",
        "    print(\"혼동행렬:\\n\", confusion_matrix(y_test, y_pred))\n",
        "\n",
        "eval_at(0.50, \"랜덤포레스트 기본\")\n",
        "\n",
        "prec, rec, thr = precision_recall_curve(y_test, rf_proba)\n",
        "f1 = 2*prec*rec/(prec+rec+1e-9)\n",
        "best_thr = thr[np.argmax(f1[:-1])]   # thresholds 길이는 len(prec)-1\n",
        "eval_at(best_thr, \"랜덤포레스트(F1 최대)\")\n",
        "print(f\"\\nF1 최대 임계값 ≈ {best_thr:.3f}\")"
      ],
      "metadata": {
        "colab": {
          "base_uri": "https://localhost:8080/"
        },
        "id": "grcjJuX4Y7DB",
        "outputId": "276bc7df-5a43-4735-d725-0c1f4c8c52b5"
      },
      "execution_count": 33,
      "outputs": [
        {
          "output_type": "stream",
          "name": "stderr",
          "text": [
            "[Parallel(n_jobs=-1)]: Using backend ThreadingBackend with 2 concurrent workers.\n",
            "[Parallel(n_jobs=-1)]: Done  46 tasks      | elapsed:   55.5s\n",
            "[Parallel(n_jobs=-1)]: Done 196 tasks      | elapsed:  3.9min\n",
            "[Parallel(n_jobs=-1)]: Done 200 out of 200 | elapsed:  4.0min finished\n",
            "[Parallel(n_jobs=2)]: Using backend ThreadingBackend with 2 concurrent workers.\n",
            "[Parallel(n_jobs=2)]: Done  46 tasks      | elapsed:    0.2s\n"
          ]
        },
        {
          "output_type": "stream",
          "name": "stdout",
          "text": [
            "\n",
            "[랜덤포레스트 기본] 임계값=0.500\n",
            "              precision    recall  f1-score   support\n",
            "\n",
            "       정상(0)       1.00      1.00      1.00     56864\n",
            "       사기(1)       0.86      0.83      0.84        98\n",
            "\n",
            "    accuracy                           1.00     56962\n",
            "   macro avg       0.93      0.91      0.92     56962\n",
            "weighted avg       1.00      1.00      1.00     56962\n",
            "\n",
            "혼동행렬:\n",
            " [[56851    13]\n",
            " [   17    81]]\n",
            "\n",
            "[랜덤포레스트(F1 최대)] 임계값=0.560\n",
            "              precision    recall  f1-score   support\n",
            "\n",
            "       정상(0)       1.00      1.00      1.00     56864\n",
            "       사기(1)       0.88      0.82      0.85        98\n",
            "\n",
            "    accuracy                           1.00     56962\n",
            "   macro avg       0.94      0.91      0.92     56962\n",
            "weighted avg       1.00      1.00      1.00     56962\n",
            "\n",
            "혼동행렬:\n",
            " [[56853    11]\n",
            " [   18    80]]\n",
            "\n",
            "F1 최대 임계값 ≈ 0.560\n"
          ]
        },
        {
          "output_type": "stream",
          "name": "stderr",
          "text": [
            "[Parallel(n_jobs=2)]: Done 196 tasks      | elapsed:    0.7s\n",
            "[Parallel(n_jobs=2)]: Done 200 out of 200 | elapsed:    0.7s finished\n"
          ]
        }
      ]
    },
    {
      "cell_type": "markdown",
      "source": [
        "트리 앙상블이라 비선형/상호작용을 자동 학습 → 가장 잘 나옴.\n",
        "\n",
        "임계값 0.50일 때 혼동행렬 예시 [[TN=56851, FP=13],[FN=17, TP=81]]\n",
        "\n",
        "FP 13건(정상인데 사기라고 경보), FN 17건(사기인데 못 잡음).\n",
        "\n",
        "F1최대 임계값 0.56으로 올리면\n",
        "\n",
        "FP가 줄고(오탐↓), FN이 약간 늘어남(미탐↑) → 정밀도↑, 재현율↓의 정책 선택 문제.\n",
        "\n",
        "표에서도 보이듯 PR-AUC ≈ 0.847로 가장 높음 → 실무 1순위."
      ],
      "metadata": {
        "id": "JkN6lxjnmW9f"
      }
    },
    {
      "cell_type": "markdown",
      "source": [
        "#6.비지도 보조선: Isolation Forest로 신규 패턴 감지"
      ],
      "metadata": {
        "id": "LAY2iWkxX4V8"
      }
    },
    {
      "cell_type": "code",
      "source": [
        "# 전처리 결과를 따로 추출\n",
        "X_train_prep = preprocess.fit_transform(X_train)\n",
        "X_test_prep  = preprocess.transform(X_test)\n",
        "\n",
        "iso = IsolationForest(\n",
        "    n_estimators=300, contamination=y.mean(),  # 대략적 사기 비율\n",
        "    random_state=RANDOM_STATE, n_jobs=-1\n",
        ")\n",
        "iso.fit(X_train_prep)                     # y 없이 학습\n",
        "iso_pred = iso.predict(X_test_prep)       # 정상=1, 이상=-1\n",
        "iso_pred = np.where(iso_pred == -1, 1, 0) # 사기=1로 변환\n",
        "\n",
        "print(\"\\n[Isolation Forest] 비지도 결과\")\n",
        "print(classification_report(y_test, iso_pred, target_names=[\"정상(0)\",\"사기(1)\"]))\n",
        "print(\"혼동행렬:\\n\", confusion_matrix(y_test, iso_pred))"
      ],
      "metadata": {
        "colab": {
          "base_uri": "https://localhost:8080/"
        },
        "id": "qTY5gYRYcIk7",
        "outputId": "385fec7e-7756-4346-d419-3f0a91efe1f9"
      },
      "execution_count": 34,
      "outputs": [
        {
          "output_type": "stream",
          "name": "stdout",
          "text": [
            "\n",
            "[Isolation Forest] 비지도 결과\n",
            "              precision    recall  f1-score   support\n",
            "\n",
            "       정상(0)       1.00      1.00      1.00     56864\n",
            "       사기(1)       0.23      0.26      0.24        98\n",
            "\n",
            "    accuracy                           1.00     56962\n",
            "   macro avg       0.62      0.63      0.62     56962\n",
            "weighted avg       1.00      1.00      1.00     56962\n",
            "\n",
            "혼동행렬:\n",
            " [[56782    82]\n",
            " [   73    25]]\n"
          ]
        }
      ]
    },
    {
      "cell_type": "markdown",
      "source": [
        "라벨 없이 “이상치”만 찾는 방법.\n",
        "\n",
        "여기서는 정밀도 0.23 / 재현율 0.26 → 단독 운영은 비추.\n",
        "\n",
        "다만 새로운 유형 탐지 보조선으로는 의미 있음(지도학습이 놓친 특이 패턴 발굴)."
      ],
      "metadata": {
        "id": "ZYF0dI_Dm7kK"
      }
    },
    {
      "cell_type": "markdown",
      "source": [
        "#7.최종 요약 테이블 (정밀도/재현율/ROC-AUC/PR-AUC)"
      ],
      "metadata": {
        "id": "-c8jOgGjX7SZ"
      }
    },
    {
      "cell_type": "code",
      "source": [
        "def summarize(name, prob, thr):\n",
        "    y_pred = (prob >= thr).astype(int)\n",
        "    from sklearn.metrics import precision_score, recall_score, f1_score\n",
        "    return {\n",
        "        \"모델\": name,\n",
        "        \"임계값\": round(thr,3),\n",
        "        \"정밀도\": round(precision_score(y_test, y_pred), 3),\n",
        "        \"재현율\": round(recall_score(y_test, y_pred), 3),\n",
        "        \"F1\": round(f1_score(y_test, y_pred), 3),\n",
        "        \"ROC-AUC\": round(roc_auc_score(y_test, prob), 3),\n",
        "        \"PR-AUC\": round(average_precision_score(y_test, prob), 3),\n",
        "    }\n",
        "\n",
        "base_logit = summarize(\"로지스틱(0.50)\", logit_pipe.predict_proba(X_test)[:,1], 0.50)\n",
        "smote_log  = summarize(\"SMOTE+로지스틱(0.50)\", smote_logit.predict_proba(X_test)[:,1], 0.50)\n",
        "rf_050     = summarize(\"랜덤포레스트(0.50)\", rf_proba, 0.50)\n",
        "rf_best    = summarize(\"랜덤포레스트(F1최대)\", rf_proba, best_thr)\n",
        "\n",
        "pd.DataFrame([base_logit, smote_log, rf_050, rf_best])"
      ],
      "metadata": {
        "colab": {
          "base_uri": "https://localhost:8080/",
          "height": 175
        },
        "id": "SUHtHI3YUZVv",
        "outputId": "8f96c29b-84af-4b3e-f3ab-92b69b3eef39"
      },
      "execution_count": 35,
      "outputs": [
        {
          "output_type": "execute_result",
          "data": {
            "text/plain": [
              "                 모델   임계값    정밀도    재현율     F1  ROC-AUC  PR-AUC\n",
              "0        로지스틱(0.50)  0.50  0.061  0.918  0.114    0.972   0.717\n",
              "1  SMOTE+로지스틱(0.50)  0.50  0.059  0.918  0.111    0.971   0.725\n",
              "2      랜덤포레스트(0.50)  0.50  0.862  0.827  0.844    0.978   0.847\n",
              "3      랜덤포레스트(F1최대)  0.56  0.879  0.816  0.847    0.978   0.847"
            ],
            "text/html": [
              "\n",
              "  <div id=\"df-6bf94d16-9654-4b03-95f9-23138b815115\" class=\"colab-df-container\">\n",
              "    <div>\n",
              "<style scoped>\n",
              "    .dataframe tbody tr th:only-of-type {\n",
              "        vertical-align: middle;\n",
              "    }\n",
              "\n",
              "    .dataframe tbody tr th {\n",
              "        vertical-align: top;\n",
              "    }\n",
              "\n",
              "    .dataframe thead th {\n",
              "        text-align: right;\n",
              "    }\n",
              "</style>\n",
              "<table border=\"1\" class=\"dataframe\">\n",
              "  <thead>\n",
              "    <tr style=\"text-align: right;\">\n",
              "      <th></th>\n",
              "      <th>모델</th>\n",
              "      <th>임계값</th>\n",
              "      <th>정밀도</th>\n",
              "      <th>재현율</th>\n",
              "      <th>F1</th>\n",
              "      <th>ROC-AUC</th>\n",
              "      <th>PR-AUC</th>\n",
              "    </tr>\n",
              "  </thead>\n",
              "  <tbody>\n",
              "    <tr>\n",
              "      <th>0</th>\n",
              "      <td>로지스틱(0.50)</td>\n",
              "      <td>0.50</td>\n",
              "      <td>0.061</td>\n",
              "      <td>0.918</td>\n",
              "      <td>0.114</td>\n",
              "      <td>0.972</td>\n",
              "      <td>0.717</td>\n",
              "    </tr>\n",
              "    <tr>\n",
              "      <th>1</th>\n",
              "      <td>SMOTE+로지스틱(0.50)</td>\n",
              "      <td>0.50</td>\n",
              "      <td>0.059</td>\n",
              "      <td>0.918</td>\n",
              "      <td>0.111</td>\n",
              "      <td>0.971</td>\n",
              "      <td>0.725</td>\n",
              "    </tr>\n",
              "    <tr>\n",
              "      <th>2</th>\n",
              "      <td>랜덤포레스트(0.50)</td>\n",
              "      <td>0.50</td>\n",
              "      <td>0.862</td>\n",
              "      <td>0.827</td>\n",
              "      <td>0.844</td>\n",
              "      <td>0.978</td>\n",
              "      <td>0.847</td>\n",
              "    </tr>\n",
              "    <tr>\n",
              "      <th>3</th>\n",
              "      <td>랜덤포레스트(F1최대)</td>\n",
              "      <td>0.56</td>\n",
              "      <td>0.879</td>\n",
              "      <td>0.816</td>\n",
              "      <td>0.847</td>\n",
              "      <td>0.978</td>\n",
              "      <td>0.847</td>\n",
              "    </tr>\n",
              "  </tbody>\n",
              "</table>\n",
              "</div>\n",
              "    <div class=\"colab-df-buttons\">\n",
              "\n",
              "  <div class=\"colab-df-container\">\n",
              "    <button class=\"colab-df-convert\" onclick=\"convertToInteractive('df-6bf94d16-9654-4b03-95f9-23138b815115')\"\n",
              "            title=\"Convert this dataframe to an interactive table.\"\n",
              "            style=\"display:none;\">\n",
              "\n",
              "  <svg xmlns=\"http://www.w3.org/2000/svg\" height=\"24px\" viewBox=\"0 -960 960 960\">\n",
              "    <path d=\"M120-120v-720h720v720H120Zm60-500h600v-160H180v160Zm220 220h160v-160H400v160Zm0 220h160v-160H400v160ZM180-400h160v-160H180v160Zm440 0h160v-160H620v160ZM180-180h160v-160H180v160Zm440 0h160v-160H620v160Z\"/>\n",
              "  </svg>\n",
              "    </button>\n",
              "\n",
              "  <style>\n",
              "    .colab-df-container {\n",
              "      display:flex;\n",
              "      gap: 12px;\n",
              "    }\n",
              "\n",
              "    .colab-df-convert {\n",
              "      background-color: #E8F0FE;\n",
              "      border: none;\n",
              "      border-radius: 50%;\n",
              "      cursor: pointer;\n",
              "      display: none;\n",
              "      fill: #1967D2;\n",
              "      height: 32px;\n",
              "      padding: 0 0 0 0;\n",
              "      width: 32px;\n",
              "    }\n",
              "\n",
              "    .colab-df-convert:hover {\n",
              "      background-color: #E2EBFA;\n",
              "      box-shadow: 0px 1px 2px rgba(60, 64, 67, 0.3), 0px 1px 3px 1px rgba(60, 64, 67, 0.15);\n",
              "      fill: #174EA6;\n",
              "    }\n",
              "\n",
              "    .colab-df-buttons div {\n",
              "      margin-bottom: 4px;\n",
              "    }\n",
              "\n",
              "    [theme=dark] .colab-df-convert {\n",
              "      background-color: #3B4455;\n",
              "      fill: #D2E3FC;\n",
              "    }\n",
              "\n",
              "    [theme=dark] .colab-df-convert:hover {\n",
              "      background-color: #434B5C;\n",
              "      box-shadow: 0px 1px 3px 1px rgba(0, 0, 0, 0.15);\n",
              "      filter: drop-shadow(0px 1px 2px rgba(0, 0, 0, 0.3));\n",
              "      fill: #FFFFFF;\n",
              "    }\n",
              "  </style>\n",
              "\n",
              "    <script>\n",
              "      const buttonEl =\n",
              "        document.querySelector('#df-6bf94d16-9654-4b03-95f9-23138b815115 button.colab-df-convert');\n",
              "      buttonEl.style.display =\n",
              "        google.colab.kernel.accessAllowed ? 'block' : 'none';\n",
              "\n",
              "      async function convertToInteractive(key) {\n",
              "        const element = document.querySelector('#df-6bf94d16-9654-4b03-95f9-23138b815115');\n",
              "        const dataTable =\n",
              "          await google.colab.kernel.invokeFunction('convertToInteractive',\n",
              "                                                    [key], {});\n",
              "        if (!dataTable) return;\n",
              "\n",
              "        const docLinkHtml = 'Like what you see? Visit the ' +\n",
              "          '<a target=\"_blank\" href=https://colab.research.google.com/notebooks/data_table.ipynb>data table notebook</a>'\n",
              "          + ' to learn more about interactive tables.';\n",
              "        element.innerHTML = '';\n",
              "        dataTable['output_type'] = 'display_data';\n",
              "        await google.colab.output.renderOutput(dataTable, element);\n",
              "        const docLink = document.createElement('div');\n",
              "        docLink.innerHTML = docLinkHtml;\n",
              "        element.appendChild(docLink);\n",
              "      }\n",
              "    </script>\n",
              "  </div>\n",
              "\n",
              "\n",
              "    <div id=\"df-344ee1d0-7b08-4798-9779-8b643a2f8fa7\">\n",
              "      <button class=\"colab-df-quickchart\" onclick=\"quickchart('df-344ee1d0-7b08-4798-9779-8b643a2f8fa7')\"\n",
              "                title=\"Suggest charts\"\n",
              "                style=\"display:none;\">\n",
              "\n",
              "<svg xmlns=\"http://www.w3.org/2000/svg\" height=\"24px\"viewBox=\"0 0 24 24\"\n",
              "     width=\"24px\">\n",
              "    <g>\n",
              "        <path d=\"M19 3H5c-1.1 0-2 .9-2 2v14c0 1.1.9 2 2 2h14c1.1 0 2-.9 2-2V5c0-1.1-.9-2-2-2zM9 17H7v-7h2v7zm4 0h-2V7h2v10zm4 0h-2v-4h2v4z\"/>\n",
              "    </g>\n",
              "</svg>\n",
              "      </button>\n",
              "\n",
              "<style>\n",
              "  .colab-df-quickchart {\n",
              "      --bg-color: #E8F0FE;\n",
              "      --fill-color: #1967D2;\n",
              "      --hover-bg-color: #E2EBFA;\n",
              "      --hover-fill-color: #174EA6;\n",
              "      --disabled-fill-color: #AAA;\n",
              "      --disabled-bg-color: #DDD;\n",
              "  }\n",
              "\n",
              "  [theme=dark] .colab-df-quickchart {\n",
              "      --bg-color: #3B4455;\n",
              "      --fill-color: #D2E3FC;\n",
              "      --hover-bg-color: #434B5C;\n",
              "      --hover-fill-color: #FFFFFF;\n",
              "      --disabled-bg-color: #3B4455;\n",
              "      --disabled-fill-color: #666;\n",
              "  }\n",
              "\n",
              "  .colab-df-quickchart {\n",
              "    background-color: var(--bg-color);\n",
              "    border: none;\n",
              "    border-radius: 50%;\n",
              "    cursor: pointer;\n",
              "    display: none;\n",
              "    fill: var(--fill-color);\n",
              "    height: 32px;\n",
              "    padding: 0;\n",
              "    width: 32px;\n",
              "  }\n",
              "\n",
              "  .colab-df-quickchart:hover {\n",
              "    background-color: var(--hover-bg-color);\n",
              "    box-shadow: 0 1px 2px rgba(60, 64, 67, 0.3), 0 1px 3px 1px rgba(60, 64, 67, 0.15);\n",
              "    fill: var(--button-hover-fill-color);\n",
              "  }\n",
              "\n",
              "  .colab-df-quickchart-complete:disabled,\n",
              "  .colab-df-quickchart-complete:disabled:hover {\n",
              "    background-color: var(--disabled-bg-color);\n",
              "    fill: var(--disabled-fill-color);\n",
              "    box-shadow: none;\n",
              "  }\n",
              "\n",
              "  .colab-df-spinner {\n",
              "    border: 2px solid var(--fill-color);\n",
              "    border-color: transparent;\n",
              "    border-bottom-color: var(--fill-color);\n",
              "    animation:\n",
              "      spin 1s steps(1) infinite;\n",
              "  }\n",
              "\n",
              "  @keyframes spin {\n",
              "    0% {\n",
              "      border-color: transparent;\n",
              "      border-bottom-color: var(--fill-color);\n",
              "      border-left-color: var(--fill-color);\n",
              "    }\n",
              "    20% {\n",
              "      border-color: transparent;\n",
              "      border-left-color: var(--fill-color);\n",
              "      border-top-color: var(--fill-color);\n",
              "    }\n",
              "    30% {\n",
              "      border-color: transparent;\n",
              "      border-left-color: var(--fill-color);\n",
              "      border-top-color: var(--fill-color);\n",
              "      border-right-color: var(--fill-color);\n",
              "    }\n",
              "    40% {\n",
              "      border-color: transparent;\n",
              "      border-right-color: var(--fill-color);\n",
              "      border-top-color: var(--fill-color);\n",
              "    }\n",
              "    60% {\n",
              "      border-color: transparent;\n",
              "      border-right-color: var(--fill-color);\n",
              "    }\n",
              "    80% {\n",
              "      border-color: transparent;\n",
              "      border-right-color: var(--fill-color);\n",
              "      border-bottom-color: var(--fill-color);\n",
              "    }\n",
              "    90% {\n",
              "      border-color: transparent;\n",
              "      border-bottom-color: var(--fill-color);\n",
              "    }\n",
              "  }\n",
              "</style>\n",
              "\n",
              "      <script>\n",
              "        async function quickchart(key) {\n",
              "          const quickchartButtonEl =\n",
              "            document.querySelector('#' + key + ' button');\n",
              "          quickchartButtonEl.disabled = true;  // To prevent multiple clicks.\n",
              "          quickchartButtonEl.classList.add('colab-df-spinner');\n",
              "          try {\n",
              "            const charts = await google.colab.kernel.invokeFunction(\n",
              "                'suggestCharts', [key], {});\n",
              "          } catch (error) {\n",
              "            console.error('Error during call to suggestCharts:', error);\n",
              "          }\n",
              "          quickchartButtonEl.classList.remove('colab-df-spinner');\n",
              "          quickchartButtonEl.classList.add('colab-df-quickchart-complete');\n",
              "        }\n",
              "        (() => {\n",
              "          let quickchartButtonEl =\n",
              "            document.querySelector('#df-344ee1d0-7b08-4798-9779-8b643a2f8fa7 button');\n",
              "          quickchartButtonEl.style.display =\n",
              "            google.colab.kernel.accessAllowed ? 'block' : 'none';\n",
              "        })();\n",
              "      </script>\n",
              "    </div>\n",
              "\n",
              "    </div>\n",
              "  </div>\n"
            ],
            "application/vnd.google.colaboratory.intrinsic+json": {
              "type": "dataframe",
              "summary": "{\n  \"name\": \"pd\",\n  \"rows\": 4,\n  \"fields\": [\n    {\n      \"column\": \"\\ubaa8\\ub378\",\n      \"properties\": {\n        \"dtype\": \"string\",\n        \"num_unique_values\": 4,\n        \"samples\": [\n          \"SMOTE+\\ub85c\\uc9c0\\uc2a4\\ud2f1(0.50)\",\n          \"\\ub79c\\ub364\\ud3ec\\ub808\\uc2a4\\ud2b8(F1\\ucd5c\\ub300)\",\n          \"\\ub85c\\uc9c0\\uc2a4\\ud2f1(0.50)\"\n        ],\n        \"semantic_type\": \"\",\n        \"description\": \"\"\n      }\n    },\n    {\n      \"column\": \"\\uc784\\uacc4\\uac12\",\n      \"properties\": {\n        \"dtype\": \"number\",\n        \"std\": 0.030000000000000027,\n        \"min\": 0.5,\n        \"max\": 0.56,\n        \"num_unique_values\": 2,\n        \"samples\": [\n          0.56,\n          0.5\n        ],\n        \"semantic_type\": \"\",\n        \"description\": \"\"\n      }\n    },\n    {\n      \"column\": \"\\uc815\\ubc00\\ub3c4\",\n      \"properties\": {\n        \"dtype\": \"number\",\n        \"std\": 0.46799456905680714,\n        \"min\": 0.059,\n        \"max\": 0.879,\n        \"num_unique_values\": 4,\n        \"samples\": [\n          0.059,\n          0.879\n        ],\n        \"semantic_type\": \"\",\n        \"description\": \"\"\n      }\n    },\n    {\n      \"column\": \"\\uc7ac\\ud604\\uc728\",\n      \"properties\": {\n        \"dtype\": \"number\",\n        \"std\": 0.05589499083102175,\n        \"min\": 0.816,\n        \"max\": 0.918,\n        \"num_unique_values\": 3,\n        \"samples\": [\n          0.918,\n          0.827\n        ],\n        \"semantic_type\": \"\",\n        \"description\": \"\"\n      }\n    },\n    {\n      \"column\": \"F1\",\n      \"properties\": {\n        \"dtype\": \"number\",\n        \"std\": 0.42320129174346016,\n        \"min\": 0.111,\n        \"max\": 0.847,\n        \"num_unique_values\": 4,\n        \"samples\": [\n          0.111,\n          0.847\n        ],\n        \"semantic_type\": \"\",\n        \"description\": \"\"\n      }\n    },\n    {\n      \"column\": \"ROC-AUC\",\n      \"properties\": {\n        \"dtype\": \"number\",\n        \"std\": 0.0037749172176353785,\n        \"min\": 0.971,\n        \"max\": 0.978,\n        \"num_unique_values\": 3,\n        \"samples\": [\n          0.972,\n          0.971\n        ],\n        \"semantic_type\": \"\",\n        \"description\": \"\"\n      }\n    },\n    {\n      \"column\": \"PR-AUC\",\n      \"properties\": {\n        \"dtype\": \"number\",\n        \"std\": 0.07281941133150327,\n        \"min\": 0.717,\n        \"max\": 0.847,\n        \"num_unique_values\": 3,\n        \"samples\": [\n          0.717,\n          0.725\n        ],\n        \"semantic_type\": \"\",\n        \"description\": \"\"\n      }\n    }\n  ]\n}"
            }
          },
          "metadata": {},
          "execution_count": 35
        }
      ]
    },
    {
      "cell_type": "markdown",
      "source": [
        "미탐을 최소화(사기를 놓치면 큰 손해) → 랜덤포레스트에서 임계값 낮게\n",
        "\n",
        "오탐을 줄이기(업무량/고객 불편 최소) → 랜덤포레스트에서 임계값 높게\n",
        "\n",
        "“랜덤포레스트 + 임계값 정책으로 운영 목표(미탐vs오탐)에 맞춰 경보량을 조절할 수 있습니다.”"
      ],
      "metadata": {
        "id": "HCP34SjLm_8y"
      }
    },
    {
      "cell_type": "code",
      "source": [],
      "metadata": {
        "id": "hy1KDffyj5m8"
      },
      "execution_count": null,
      "outputs": []
    }
  ]
}